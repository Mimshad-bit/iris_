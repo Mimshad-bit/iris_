{
 "cells": [
  {
   "cell_type": "code",
   "execution_count": 3,
   "id": "ce0c0534-3b5f-4b5e-87ac-e070da9a8a99",
   "metadata": {},
   "outputs": [
    {
     "name": "stdout",
     "output_type": "stream",
     "text": [
      "Accuracy: 1.0\n",
      "Predicted class: setosa\n"
     ]
    }
   ],
   "source": [
    "from sklearn.datasets import load_iris\n",
    "from sklearn.model_selection import train_test_split\n",
    "from sklearn.tree import DecisionTreeClassifier\n",
    "from sklearn.metrics import accuracy_score\n",
    "\n",
    "# Step 1: Load dataset\n",
    "iris = load_iris()\n",
    "X = iris.data  # Features: sepal/petal length/width\n",
    "y = iris.target  # Target: species (0=setosa, 1=versicolor, 2=virginica)\n",
    "\n",
    "# Step 2: Train/test split\n",
    "X_train, X_test, y_train, y_test = train_test_split(X, y, test_size=0.2, random_state=42)\n",
    "\n",
    "# Step 3: Train a simple model\n",
    "model = DecisionTreeClassifier()\n",
    "model.fit(X_train, y_train)\n",
    "\n",
    "# Step 4: Make predictions and evaluate\n",
    "y_pred = model.predict(X_test)\n",
    "print(\"Accuracy:\", accuracy_score(y_test, y_pred))\n",
    "\n",
    "# Step 5: Predict a new sample\n",
    "sample = [[5.1, 3.5, 1.4, 0.2]]  # Example sepal/petal measurements\n",
    "prediction = model.predict(sample)\n",
    "print(\"Predicted class:\", iris.target_names[prediction[0]])\n"
   ]
  },
  {
   "cell_type": "code",
   "execution_count": null,
   "id": "8af11d10-1736-4bc6-b0a1-1c0e0e01d9e5",
   "metadata": {},
   "outputs": [],
   "source": []
  }
 ],
 "metadata": {
  "kernelspec": {
   "display_name": "Python 3 (ipykernel)",
   "language": "python",
   "name": "python3"
  },
  "language_info": {
   "codemirror_mode": {
    "name": "ipython",
    "version": 3
   },
   "file_extension": ".py",
   "mimetype": "text/x-python",
   "name": "python",
   "nbconvert_exporter": "python",
   "pygments_lexer": "ipython3",
   "version": "3.12.4"
  }
 },
 "nbformat": 4,
 "nbformat_minor": 5
}
